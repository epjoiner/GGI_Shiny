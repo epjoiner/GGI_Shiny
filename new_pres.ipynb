{
 "cells": [
  {
   "cell_type": "markdown",
   "metadata": {
    "slideshow": {
     "slide_type": "slide"
    }
   },
   "source": [
    "# GGI: building products from materials\n",
    "\n",
    "### <font color=\"darkblue\">Emily Joiner and Jordan Wingenroth</font>\n",
    "\n",
    "###### <font color = \"darkblue\">March 6th, 2025</font>"
   ]
  },
  {
   "cell_type": "markdown",
   "metadata": {
    "slideshow": {
     "slide_type": "slide"
    }
   },
   "source": [
    "## Thus far"
   ]
  },
  {
   "cell_type": "markdown",
   "metadata": {
    "slideshow": {
     "slide_type": "fragment"
    }
   },
   "source": [
    "1. We built our initial (v.0) prototype focused on interactivity, using [Shiny](https://shiny.posit.co/) for R"
   ]
  },
  {
   "cell_type": "markdown",
   "metadata": {
    "slideshow": {
     "slide_type": "fragment"
    }
   },
   "source": [
    "2. Jan and Brian provided feedback about functionalities required, including:"
   ]
  },
  {
   "cell_type": "markdown",
   "metadata": {
    "slideshow": {
     "slide_type": "fragment"
    }
   },
   "source": [
    "- Estimating GGI for a **facility** with unique fuel sources and production methods"
   ]
  },
  {
   "cell_type": "markdown",
   "metadata": {
    "slideshow": {
     "slide_type": "fragment"
    }
   },
   "source": [
    "- Data visualization, with an initial focus on stacked bar charts breaking down GGI categorically"
   ]
  },
  {
   "cell_type": "markdown",
   "metadata": {
    "slideshow": {
     "slide_type": "fragment"
    }
   },
   "source": [
    "- Cataloguing: printing a comprehensive list of the \"ingredients\" for a product/facility"
   ]
  },
  {
   "cell_type": "markdown",
   "metadata": {
    "slideshow": {
     "slide_type": "fragment"
    }
   },
   "source": [
    "3. We switched to using **Python** because its support for object-oriented programming (OOP) is well suited to the modular nature of this project"
   ]
  },
  {
   "cell_type": "code",
   "execution_count": 3,
   "metadata": {
    "slideshow": {
     "slide_type": "skip"
    }
   },
   "outputs": [],
   "source": [
    "from product_types import *\n",
    "from precal_classes import *\n",
    "from data_visualization import *\n",
    "from copy import deepcopy"
   ]
  },
  {
   "cell_type": "markdown",
   "metadata": {
    "slideshow": {
     "slide_type": "slide"
    }
   },
   "source": [
    "## New features"
   ]
  },
  {
   "cell_type": "markdown",
   "metadata": {
    "slideshow": {
     "slide_type": "fragment"
    }
   },
   "source": [
    "### Two Python objects (each a `class` in programmer lingo)"
   ]
  },
  {
   "cell_type": "markdown",
   "metadata": {
    "slideshow": {
     "slide_type": "fragment"
    }
   },
   "source": [
    "- `Fuel`: an object that could be used to represent coal, natural gas, or other fossil fuels as currently described and parameterized in the *39 Sectors* report"
   ]
  },
  {
   "cell_type": "markdown",
   "metadata": {
    "slideshow": {
     "slide_type": "fragment"
    }
   },
   "source": [
    "- `Product`: an object that takes one or more `Fuel` objects as inputs, with a ratio term to quantify the amount of \"fuel\" required per unit \"product\""
   ]
  },
  {
   "cell_type": "markdown",
   "metadata": {
    "slideshow": {
     "slide_type": "slide"
    }
   },
   "source": [
    "## New features\n",
    "\n",
    "### An example of a fuel"
   ]
  },
  {
   "cell_type": "code",
   "execution_count": 4,
   "metadata": {
    "slideshow": {
     "slide_type": "fragment"
    }
   },
   "outputs": [
    {
     "name": "stdout",
     "output_type": "stream",
     "text": [
      "'Natural Gas' fuel, carbon fraction = 0.763, processing emissions = 0.258, leakage = False\n"
     ]
    }
   ],
   "source": [
    "# Natural Gas\n",
    "\n",
    "nat_gas = Fuel(name = \"Natural Gas\", carbon_frac = 0.763, processing = 0.258)\n",
    "\n",
    "print(nat_gas)"
   ]
  },
  {
   "cell_type": "markdown",
   "metadata": {
    "slideshow": {
     "slide_type": "slide"
    }
   },
   "source": [
    "## New features\n",
    "\n",
    "### An example of a product"
   ]
  },
  {
   "cell_type": "code",
   "execution_count": 5,
   "metadata": {
    "slideshow": {
     "slide_type": "fragment"
    }
   },
   "outputs": [
    {
     "name": "stdout",
     "output_type": "stream",
     "text": [
      "'LNG' product, 1 input(s), processing emissions = 0\n"
     ]
    }
   ],
   "source": [
    "# Liquified Natural Gas\n",
    "\n",
    "lng = Product(name = \"LNG\", processing = 0)\n",
    "\n",
    "lng.add_feedstock(nat_gas, unit_ratio = 1/.9)\n",
    "\n",
    "print(lng)"
   ]
  },
  {
   "cell_type": "markdown",
   "metadata": {
    "slideshow": {
     "slide_type": "slide"
    }
   },
   "source": [
    "## New features\n",
    "\n",
    "### An example of a method\n",
    "\n",
    "A method is a function that operates on a class (`Fuel` or `Product`).\n",
    "\n",
    "For example, calculating greenhouse gas intensity:"
   ]
  },
  {
   "cell_type": "code",
   "execution_count": 6,
   "metadata": {
    "slideshow": {
     "slide_type": "fragment"
    }
   },
   "outputs": [
    {
     "data": {
      "text/plain": [
       "3.056"
      ]
     },
     "execution_count": 6,
     "metadata": {},
     "output_type": "execute_result"
    }
   ],
   "source": [
    "nat_gas_ggi = nat_gas.ggi_co2e()\n",
    "\n",
    "round(nat_gas_ggi, 3) # rounds to 3 sig. fig."
   ]
  },
  {
   "attachments": {
    "image.png": {
     "image/png": "[encoded data removed]"
    }
   },
   "cell_type": "markdown",
   "metadata": {
    "slideshow": {
     "slide_type": "subslide"
    }
   },
   "source": [
    "This number matches the value from the Excel spreadsheet with the same parameterization.\n",
    "\n",
    "![image.png](attachment:image.png)"
   ]
  },
  {
   "cell_type": "markdown",
   "metadata": {
    "slideshow": {
     "slide_type": "slide"
    }
   },
   "source": [
    "## New features\n",
    "\n",
    "### An example of a method\n",
    "\n",
    "A method is a function that operates on a class (`Fuel` or `Product`).\n",
    "\n",
    "Calculating greenhouse gas intensity is possible for products too:"
   ]
  },
  {
   "cell_type": "code",
   "execution_count": 7,
   "metadata": {
    "slideshow": {
     "slide_type": "fragment"
    }
   },
   "outputs": [
    {
     "data": {
      "text/plain": [
       "3.395"
      ]
     },
     "execution_count": 7,
     "metadata": {},
     "output_type": "execute_result"
    }
   ],
   "source": [
    "lng_ggi = lng.ggi_co2e()\n",
    "\n",
    "round(lng_ggi, 3) # rounds to 3 sig. fig."
   ]
  },
  {
   "attachments": {
    "image.png": {
     "image/png": "[encoded data removed]"
    }
   },
   "cell_type": "markdown",
   "metadata": {
    "slideshow": {
     "slide_type": "subslide"
    }
   },
   "source": [
    "This number also matches the value from the Excel spreadsheet, although the spreadsheet value has rounding error due to copy-pasting.\n",
    "\n",
    "![image.png](attachment:image.png)"
   ]
  },
  {
   "cell_type": "markdown",
   "metadata": {
    "slideshow": {
     "slide_type": "slide"
    }
   },
   "source": [
    "## New features\n",
    "\n",
    "### Another method\n",
    "\n",
    "We also built a basic method for addressing leakage for the fuel class:"
   ]
  },
  {
   "cell_type": "code",
   "execution_count": 8,
   "metadata": {
    "slideshow": {
     "slide_type": "fragment"
    }
   },
   "outputs": [
    {
     "name": "stdout",
     "output_type": "stream",
     "text": [
      "'Natural Gas' fuel, carbon fraction = 0.763, processing emissions = 0.258, leakage = True\n"
     ]
    },
    {
     "data": {
      "text/plain": [
       "3.356"
      ]
     },
     "execution_count": 8,
     "metadata": {},
     "output_type": "execute_result"
    }
   ],
   "source": [
    "nat_gas.set_leakage(leak_rate = 0.01, gwp = 30)\n",
    "\n",
    "print(nat_gas)\n",
    "\n",
    "leaky_ggi = nat_gas.ggi_co2e()\n",
    "\n",
    "round(leaky_ggi, 3)"
   ]
  },
  {
   "attachments": {
    "image.png": {
     "image/png": "[encoded data removed]"
    }
   },
   "cell_type": "markdown",
   "metadata": {
    "slideshow": {
     "slide_type": "subslide"
    }
   },
   "source": [
    "This does not quite line up with the value in the latest iteration of the spreadsheet but it will be easy to fix once we get the math right.\n",
    "\n",
    "![image.png](attachment:image.png)"
   ]
  },
  {
   "cell_type": "markdown",
   "metadata": {},
   "source": [
    "## New features \n"
   ]
  },
  {
   "cell_type": "markdown",
   "metadata": {},
   "source": [
    "### Precalibrated product and fuel classes"
   ]
  },
  {
   "cell_type": "markdown",
   "metadata": {},
   "source": [
    "We showed the process of manually creating fuels and products using the `Fuel` and `Product` classes. We also have created precalibrated subclasses using the Excel sheet defaults. Users may call these subclasses directly.  "
   ]
  },
  {
   "cell_type": "code",
   "execution_count": 13,
   "metadata": {},
   "outputs": [
    {
     "name": "stdout",
     "output_type": "stream",
     "text": [
      "Default GHG intensity (CO2e) of Canadian Oil Sands : 3.429\n"
     ]
    }
   ],
   "source": [
    "oil_sands = OilSands()\n",
    "print(\"Default GHG intensity (CO2e) of\", oil_sands.name, \":\", round(oil_sands.ggi_co2e(),3))\n"
   ]
  },
  {
   "cell_type": "markdown",
   "metadata": {},
   "source": [
    "Precalibrated products can take both `Fuels` and other `Products` as inputs. Here coke, iron, oxygen, and limestone are all inputs to BOF steel. Coke is itself a product with coal as a feedstock. All of these precalibrated feedstocks are combined into the BOF steel product. "
   ]
  },
  {
   "cell_type": "code",
   "execution_count": 20,
   "metadata": {},
   "outputs": [
    {
     "name": "stdout",
     "output_type": "stream",
     "text": [
      "Default GHG intensity (CO2e) of BOF Steel : 3.0317\n"
     ]
    }
   ],
   "source": [
    "coke = Coke(Coal())\n",
    "bof_steel = BOFSteel(Iron(), coke, Oxygen(), Limestone(), processing = 0)\n",
    "print(\"Default GHG intensity (CO2e) of\", bof_steel.name, \":\", bof_steel.ggi_co2e())"
   ]
  },
  {
   "cell_type": "markdown",
   "metadata": {},
   "source": [
    "You can also view the catalog for BOF steel. "
   ]
  },
  {
   "cell_type": "code",
   "execution_count": 21,
   "metadata": {},
   "outputs": [
    {
     "name": "stdout",
     "output_type": "stream",
     "text": [
      "'BOF Steel' product, 4 input(s), processing emissions = 0\n",
      "\n",
      "'BOF Steel' product, 4 input(s), processing emissions = 0\n"
     ]
    }
   ],
   "source": [
    "bof_steel.catalog().show()\n",
    "\n",
    "print(bof_steel)"
   ]
  }
 ],
 "metadata": {
  "kernelspec": {
   "display_name": "Python 3",
   "language": "python",
   "name": "python3"
  },
  "language_info": {
   "codemirror_mode": {
    "name": "ipython",
    "version": 3
   },
   "file_extension": ".py",
   "mimetype": "text/x-python",
   "name": "python",
   "nbconvert_exporter": "python",
   "pygments_lexer": "ipython3",
   "version": "3.13.2"
  }
 },
 "nbformat": 4,
 "nbformat_minor": 2
}
