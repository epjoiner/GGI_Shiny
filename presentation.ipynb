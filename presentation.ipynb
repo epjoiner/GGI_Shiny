{
 "cells": [
  {
   "cell_type": "code",
   "execution_count": null,
   "metadata": {},
   "outputs": [],
   "source": [
    "from product_types import *\n",
    "from precal_classes import *\n",
    "from data_visualization import *\n",
    "from copy import deepcopy\n",
    "\n",
    "import pandas as pd \n",
    "from pathlib import Path\n",
    "from importlib.machinery import SourceFileLoader"
   ]
  },
  {
   "cell_type": "markdown",
   "metadata": {},
   "source": [
    "# Basic fossil fuels"
   ]
  },
  {
   "cell_type": "code",
   "execution_count": null,
   "metadata": {},
   "outputs": [],
   "source": [
    "nat_gas = Fuel(name = \"Natural Gas\", carbon_frac = 0.763, processing = 0.258)\n",
    "crude = Fuel(name = \"Conventional Crude\", carbon_frac = 0.85, processing = 0.126)\n",
    "coal = Fuel(\"Bituminous Coal\", 0.7, 0.117)\n",
    "\n",
    "print(nat_gas)\n",
    "print(\"GHG intensity (CO2e):\", round(nat_gas.ggi_co2e(), 2))\n",
    "print()\n",
    "print(crude)\n",
    "print(\"GHG intensity (CO2e):\", round(crude.ggi_co2e(), 2))\n",
    "print()\n",
    "print(coal)\n",
    "print(\"GHG intensity (CO2e):\", round(coal.ggi_co2e(), 2))\n"
   ]
  },
  {
   "cell_type": "markdown",
   "metadata": {},
   "source": [
    "# LNG"
   ]
  },
  {
   "cell_type": "code",
   "execution_count": null,
   "metadata": {},
   "outputs": [],
   "source": [
    "lng = Product(name = \"LNG\", processing = 0)\n",
    "\n",
    "lng.add_feedstock(nat_gas, unit_ratio = 1/.9)\n",
    "\n",
    "print(lng)\n",
    "print(\"GHG intensity (CO2e):\", round(lng.ggi_co2e(), 2))\n"
   ]
  },
  {
   "cell_type": "markdown",
   "metadata": {},
   "source": [
    "# Natural gas with leakage"
   ]
  },
  {
   "cell_type": "markdown",
   "metadata": {},
   "source": [
    "Here, my result differs with the Excel spreadsheet. \n",
    "The formula for effective CO2 emissions of CH4 \n",
    "leakage in the Excel spreadsheet depends on the \n",
    "molecular ratio between C and CO2. I think that is \n",
    "incorrect. Global warming attributable to CH4 \n",
    "leakage does not involve the carbon fraction of the \n",
    "gas or the properties of its combustion, just its \n",
    "global warming potential.\n",
    "\n",
    "I believe the Excel spreadsheet may have been\n",
    "corrected since I wrote this, but I'll leave it in\n",
    "for now just as a side note."
   ]
  },
  {
   "cell_type": "code",
   "execution_count": null,
   "metadata": {},
   "outputs": [],
   "source": [
    "leaky_nat_gas = deepcopy(nat_gas)\n",
    "\n",
    "leaky_nat_gas.set_leakage(leak_rate = 0.01, gwp = 30)\n",
    "leaky_nat_gas.name = \"NG 1% leak\"\n",
    "\n",
    "print(leaky_nat_gas)\n",
    "print(\"GHG intensity (CO2e):\", round(leaky_nat_gas.ggi_co2e(), 2))\n"
   ]
  },
  {
   "cell_type": "markdown",
   "metadata": {},
   "source": [
    "# A metal"
   ]
  },
  {
   "cell_type": "markdown",
   "metadata": {},
   "source": [
    "Products take a processing value "
   ]
  },
  {
   "cell_type": "code",
   "execution_count": null,
   "metadata": {},
   "outputs": [],
   "source": [
    "steel = Product(\"BOF raw steel\", 0)\n",
    "\n",
    "# feedstocks\n",
    "iron = Fuel(\"Iron ore\", 0, .168)\n",
    "\n",
    "coal = Fuel(\"Coal\", 0.93/1.5, 0.034)\n",
    "\n",
    "coke = Product(\"Coke\", 0.496)\n",
    "coke.add_feedstock(coal, unit_ratio = 1.5)\n",
    "\n",
    "oxygen = Fuel(\"Oxygen\", 0, .525)\n",
    "\n",
    "limestone = Fuel(\"Limestone\", 0, 0.44)\n",
    "\n",
    "# update steel\n",
    "steel.add_feedstock(iron, unit_ratio = 1.6)\n",
    "steel.add_feedstock(coke, unit_ratio = 0.65)\n",
    "steel.add_feedstock(oxygen, unit_ratio = 0.154)\n",
    "steel.add_feedstock(limestone, unit_ratio = 0.25)\n",
    "\n",
    "# calculate GGI\n",
    "steel.ggi_co2e()\n"
   ]
  },
  {
   "cell_type": "markdown",
   "metadata": {},
   "source": [
    "# 'Print catalog' functionality"
   ]
  },
  {
   "cell_type": "code",
   "execution_count": null,
   "metadata": {},
   "outputs": [],
   "source": [
    "steel.catalog().show()\n"
   ]
  },
  {
   "cell_type": "markdown",
   "metadata": {},
   "source": [
    "# Bar chart functionality\n",
    "\n",
    "Currently only available for `Fuel` type"
   ]
  },
  {
   "cell_type": "code",
   "execution_count": null,
   "metadata": {},
   "outputs": [],
   "source": [
    "plot = Plot(nat_gas, leaky_nat_gas, crude)\n",
    "plot.column_plot()"
   ]
  },
  {
   "cell_type": "code",
   "execution_count": null,
   "metadata": {},
   "outputs": [],
   "source": [
    "plot.add_column(coal)\n",
    "plot.column_plot()"
   ]
  },
  {
   "cell_type": "markdown",
   "metadata": {},
   "source": [
    "# Testing Class Edits "
   ]
  },
  {
   "cell_type": "code",
   "execution_count": null,
   "metadata": {},
   "outputs": [],
   "source": [
    "# setting named instances of the subclasses for feedstocks negates the catalog function output \n",
    "\n",
    "bof_steel = BOFSteel(iron, coke, limestone, oxygen, processing = 0)\n",
    "tree = bof_steel.catalog()\n",
    "tree.show()\n",
    "\n",
    "tree2 = coke.catalog()\n",
    "tree2.show()"
   ]
  },
  {
   "cell_type": "markdown",
   "metadata": {},
   "source": [
    "## Data Input for Generating Classes "
   ]
  },
  {
   "cell_type": "code",
   "execution_count": null,
   "metadata": {},
   "outputs": [],
   "source": [
    "custom_BOF_steel_input = pd.DataFrame([\n",
    "    {\"name\": \"Iron Ore\", \"carbon_frac\": 0.5, \"processing\": 2.0},\n",
    "    {\"name\": \"Coke\", \"carbon_frac\": 0.4, \"processing\": 1.4}\n",
    "])\n",
    "\n",
    "# add column with type - fuel or product \n",
    "# need column mapping feedstocks to products \n",
    "# person making excel spreadsheet - product 1 \n",
    "custom_BOF_Steel = pd.DataFrame([\n",
    "    {\n",
    "        \"name\": \"BOF Steel\",\n",
    "        \"processing\": 0.5,\n",
    "        # second item the carbon fraction \n",
    "        \"feedstocks\": [(\"Iron Ore\", 1.5), (\"Coke\", 0.8)]\n",
    "    }\n",
    "])\n",
    "\n",
    "print(custom_BOF_Steel)\n",
    "\n",
    "fuel_dict = {row['name']: ModFuel.from_dataframe_row(row) for _, row in custom_BOF_steel_input.iterrows()}\n",
    "\n",
    "EJ_BOF_Steel = {\n",
    "    row['name']: ModProduct.from_dataframe_row(row, fuel_dict)\n",
    "    for _, row in custom_BOF_Steel.iterrows()\n",
    "}\n",
    "\n",
    "steel_product = EJ_BOF_Steel[\"BOF Steel\"]\n",
    "print(steel_product.ggi_co2e())"
   ]
  },
  {
   "cell_type": "markdown",
   "metadata": {},
   "source": [
    "## Data Input for Generating Classes - One Dataframe"
   ]
  },
  {
   "cell_type": "code",
   "execution_count": null,
   "metadata": {},
   "outputs": [],
   "source": [
    "df = pd.DataFrame([\n",
    "    {\"product_name\": \"BOF Steel\", \"processing\": 0.5, \"feedstock_name\": \"Iron Ore\", \"feedstock_type\": \"Fuel\", \"carbon_frac\": 0.5, \"unit_ratio\": 1.4},\n",
    "    {\"product_name\": \"BOF Steel\", \"processing\": 0.5, \"feedstock_name\": \"Coke\", \"feedstock_type\": \"Fuel\", \"carbon_frac\": 0.4, \"unit_ratio\": 0.8},\n",
    "    {\"product_name\": \"Coke\", \"processing\": 0.4, \"feedstock_name\": \"Coal\", \"feedstock_type\": \"Fuel\", \"carbon_frac\": 0.6, \"unit_ratio\": 0.4}\n",
    "])\n",
    "\n",
    "product_dict = build_products_from_df(df)\n",
    "\n",
    "for name, prod in product_dict.items():\n",
    "    print(f\"{name}: GGI CO2e = {prod.ggi_co2e():.2f}\")\n",
    "    print(f\"{name}: GGI CO2e = {prod.catalog()}\")\n",
    "    "
   ]
  },
  {
   "cell_type": "markdown",
   "metadata": {},
   "source": [
    "### Taking Input from a CSV is also possible with this method "
   ]
  },
  {
   "cell_type": "code",
   "execution_count": null,
   "metadata": {},
   "outputs": [],
   "source": [
    "csv = Path(\"/Users/ejoiner/OneDrive - rff/Documents/RFF Organization/Research Documents/GGI/Test/test_data.csv\")\n",
    "\n",
    "df2 = pd.read_csv(csv)\n",
    "\n",
    "product_dict2 = build_products_from_df(df2)\n",
    "\n",
    "for name, prod in product_dict2.items():\n",
    "    print(f\"{name}: GGI CO2e = {prod.ggi_co2e():.2f}\")\n",
    "    print(f\"{name}: GGI CO2e = {prod.catalog()}\")\n",
    "    "
   ]
  },
  {
   "cell_type": "markdown",
   "metadata": {},
   "source": [
    "#### What's Next?\n",
    "\n",
    "- Allowing products to have multiple sources of electricity and thermal energy, defined by percentages \n",
    "- Other initializations for core products \n",
    "\n",
    "- About 20 hours remaining of existing hours allotment, will work on implementing core features. "
   ]
  }
 ],
 "metadata": {
  "kernelspec": {
   "display_name": ".venv",
   "language": "python",
   "name": "python3"
  },
  "language_info": {
   "codemirror_mode": {
    "name": "ipython",
    "version": 3
   },
   "file_extension": ".py",
   "mimetype": "text/x-python",
   "name": "python",
   "nbconvert_exporter": "python",
   "pygments_lexer": "ipython3",
   "version": "3.13.5"
  }
 },
 "nbformat": 4,
 "nbformat_minor": 2
}
