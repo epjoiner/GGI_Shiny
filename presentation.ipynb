{
 "cells": [
  {
   "cell_type": "code",
   "execution_count": 1,
   "metadata": {},
   "outputs": [],
   "source": [
    "from product_types import *\n",
    "from data_visualization import *\n",
    "from copy import deepcopy"
   ]
  },
  {
   "cell_type": "markdown",
   "metadata": {},
   "source": [
    "# Basic fossil fuels"
   ]
  },
  {
   "cell_type": "code",
   "execution_count": 2,
   "metadata": {},
   "outputs": [
    {
     "name": "stdout",
     "output_type": "stream",
     "text": [
      "'Natural Gas' fuel, carbon fraction = 0.763, processing emissions = 0.258, leakage = False\n",
      "GHG intensity (CO2e): 3.06\n",
      "\n",
      "'Conventional Crude' fuel, carbon fraction = 0.85, processing emissions = 0.126, leakage = False\n",
      "GHG intensity (CO2e): 3.24\n",
      "\n",
      "'Bituminous Coal' fuel, carbon fraction = 0.7, processing emissions = 0.117, leakage = False\n",
      "GHG intensity (CO2e): 2.68\n"
     ]
    }
   ],
   "source": [
    "nat_gas = Fuel(name = \"Natural Gas\", carbon_frac = 0.763, processing = 0.258)\n",
    "crude = Fuel(name = \"Conventional Crude\", carbon_frac = 0.85, processing = 0.126)\n",
    "coal = Fuel(\"Bituminous Coal\", 0.7, 0.117)\n",
    "\n",
    "print(nat_gas)\n",
    "print(\"GHG intensity (CO2e):\", round(nat_gas.ggi_co2e(), 2))\n",
    "print()\n",
    "print(crude)\n",
    "print(\"GHG intensity (CO2e):\", round(crude.ggi_co2e(), 2))\n",
    "print()\n",
    "print(coal)\n",
    "print(\"GHG intensity (CO2e):\", round(coal.ggi_co2e(), 2))\n"
   ]
  },
  {
   "cell_type": "markdown",
   "metadata": {},
   "source": [
    "# LNG"
   ]
  },
  {
   "cell_type": "code",
   "execution_count": 3,
   "metadata": {},
   "outputs": [
    {
     "name": "stdout",
     "output_type": "stream",
     "text": [
      "'LNG' product, 1 input(s), processing emissions = 0\n",
      "GHG intensity (CO2e): 3.4\n"
     ]
    }
   ],
   "source": [
    "lng = Product(name = \"LNG\", processing = 0)\n",
    "\n",
    "lng.add_feedstock(nat_gas, unit_ratio = 1/.9)\n",
    "\n",
    "print(lng)\n",
    "print(\"GHG intensity (CO2e):\", round(lng.ggi_co2e(), 2))\n"
   ]
  },
  {
   "cell_type": "markdown",
   "metadata": {},
   "source": [
    "# Natural gas with leakage"
   ]
  },
  {
   "cell_type": "markdown",
   "metadata": {},
   "source": [
    "Here, my result differs with the Excel spreadsheet. \n",
    "The formula for effective CO2 emissions of CH4 \n",
    "leakage in the Excel spreadsheet depends on the \n",
    "molecular ratio between C and CO2. I think that is \n",
    "incorrect. Global warming attributable to CH4 \n",
    "leakage does not involve the carbon fraction of the \n",
    "gas or the properties of its combustion, just its \n",
    "global warming potential.\n",
    "\n",
    "I believe the Excel spreadsheet may have been\n",
    "corrected since I wrote this, but I'll leave it in\n",
    "for now just as a side note."
   ]
  },
  {
   "cell_type": "code",
   "execution_count": 4,
   "metadata": {},
   "outputs": [
    {
     "name": "stdout",
     "output_type": "stream",
     "text": [
      "'NG 1% leak' fuel, carbon fraction = 0.763, processing emissions = 0.258, leakage = True\n",
      "GHG intensity (CO2e): 3.36\n"
     ]
    }
   ],
   "source": [
    "leaky_nat_gas = deepcopy(nat_gas)\n",
    "\n",
    "leaky_nat_gas.set_leakage(leak_rate = 0.01, gwp = 30)\n",
    "leaky_nat_gas.name = \"NG 1% leak\"\n",
    "\n",
    "print(leaky_nat_gas)\n",
    "print(\"GHG intensity (CO2e):\", round(leaky_nat_gas.ggi_co2e(), 2))\n"
   ]
  },
  {
   "cell_type": "markdown",
   "metadata": {},
   "source": [
    "# A metal"
   ]
  },
  {
   "cell_type": "code",
   "execution_count": 6,
   "metadata": {},
   "outputs": [
    {
     "data": {
      "text/plain": [
       "3.0317"
      ]
     },
     "execution_count": 6,
     "metadata": {},
     "output_type": "execute_result"
    }
   ],
   "source": [
    "steel = Product(\"BOF raw steel\", 0)\n",
    "\n",
    "# feedstocks\n",
    "iron = Fuel(\"Iron ore\", 0, .168)\n",
    "\n",
    "coal = Fuel(\"Coal\", 0.93/1.5, 0.034)\n",
    "\n",
    "coke = Product(\"Coke\", 0.496)\n",
    "coke.add_feedstock(coal, unit_ratio = 1.5)\n",
    "\n",
    "oxygen = Fuel(\"Oxygen\", 0, .525)\n",
    "\n",
    "limestone = Fuel(\"Limestone\", 0, 0.44)\n",
    "\n",
    "# update steel\n",
    "steel.add_feedstock(iron, unit_ratio = 1.6)\n",
    "steel.add_feedstock(coke, unit_ratio = 0.65)\n",
    "steel.add_feedstock(oxygen, unit_ratio = 0.154)\n",
    "steel.add_feedstock(limestone, unit_ratio = 0.25)\n",
    "\n",
    "# calculate GGI\n",
    "steel.ggi_co2e()\n"
   ]
  },
  {
   "cell_type": "markdown",
   "metadata": {},
   "source": [
    "# 'Print catalog' functionality"
   ]
  },
  {
   "cell_type": "code",
   "execution_count": 7,
   "metadata": {},
   "outputs": [
    {
     "name": "stdout",
     "output_type": "stream",
     "text": [
      "'d' product, 3 input(s), processing emissions = 0.2\n",
      "├── 'c' product, 2 input(s), processing emissions = 0.3\n",
      "│   ├── 'a' fuel, carbon fraction = 1, processing emissions = 0.1, leakage = False, ratio = 2\n",
      "│   └── 'b' fuel, carbon fraction = 3, processing emissions = 0.3, leakage = False, ratio = 4\n",
      "├── 'ga' fuel, carbon fraction = 2, processing emissions = 56, leakage = False, ratio = 10\n",
      "└── 'ha' fuel, carbon fraction = 23, processing emissions = 45, leakage = False, ratio = 0.5\n",
      "\n"
     ]
    }
   ],
   "source": [
    "a = Fuel(\"a\", 1, .1)\n",
    "b = Fuel(\"b\", 3, .3)\n",
    "\n",
    "c = Product(\"c\", .3)\n",
    "c.add_feedstock(a, 2)\n",
    "c.add_feedstock(b, 4)\n",
    "\n",
    "ga = Fuel(\"ga\", 2, 56)\n",
    "ha = Fuel(\"ha\", 23, 45)\n",
    "\n",
    "d = Product(\"d\", .2)\n",
    "d.add_feedstock(ga, 10)\n",
    "d.add_feedstock(ha, .5)\n",
    "d.add_feedstock(c, 1)\n",
    "\n",
    "d.catalog().show()\n"
   ]
  },
  {
   "cell_type": "markdown",
   "metadata": {},
   "source": [
    "# Bar chart functionality"
   ]
  },
  {
   "cell_type": "code",
   "execution_count": 8,
   "metadata": {},
   "outputs": [
    {
     "data": {
      "image/png": "[encoded data removed]",
      "text/plain": [
       "<Figure size 640x480 with 1 Axes>"
      ]
     },
     "metadata": {},
     "output_type": "display_data"
    }
   ],
   "source": [
    "plot = Plot(nat_gas, leaky_nat_gas, crude)\n",
    "plot.column_plot()"
   ]
  },
  {
   "cell_type": "code",
   "execution_count": 9,
   "metadata": {},
   "outputs": [
    {
     "data": {
      "image/png": "[encoded data removed]",
      "text/plain": [
       "<Figure size 640x480 with 1 Axes>"
      ]
     },
     "metadata": {},
     "output_type": "display_data"
    }
   ],
   "source": [
    "plot.add_column(coal)\n",
    "plot.column_plot()"
   ]
  }
 ],
 "metadata": {
  "kernelspec": {
   "display_name": ".venv",
   "language": "python",
   "name": "python3"
  },
  "language_info": {
   "codemirror_mode": {
    "name": "ipython",
    "version": 3
   },
   "file_extension": ".py",
   "mimetype": "text/x-python",
   "name": "python",
   "nbconvert_exporter": "python",
   "pygments_lexer": "ipython3",
   "version": "3.13.2"
  }
 },
 "nbformat": 4,
 "nbformat_minor": 2
}
