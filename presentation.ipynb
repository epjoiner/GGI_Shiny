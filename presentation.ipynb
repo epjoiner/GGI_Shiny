{
 "cells": [
  {
   "cell_type": "code",
   "execution_count": 1,
   "metadata": {},
   "outputs": [],
   "source": [
    "from product_types import *\n",
    "from copy import deepcopy"
   ]
  },
  {
   "cell_type": "markdown",
   "metadata": {},
   "source": [
    "# Natural Gas"
   ]
  },
  {
   "cell_type": "code",
   "execution_count": 2,
   "metadata": {},
   "outputs": [
    {
     "name": "stdout",
     "output_type": "stream",
     "text": [
      "'Natural Gas' fuel, carbon fraction = 0.763, processing emissions = 0.258, leakage = False\n",
      "GHG intensity (CO2e): 3.06\n"
     ]
    }
   ],
   "source": [
    "nat_gas = Fuel(name = \"Natural Gas\", carbon_frac = 0.763, processing = 0.258)\n",
    "\n",
    "print(nat_gas)\n",
    "print(\"GHG intensity (CO2e):\", round(nat_gas.ggi_co2e(), 2))\n"
   ]
  },
  {
   "cell_type": "markdown",
   "metadata": {},
   "source": [
    "# LNG"
   ]
  },
  {
   "cell_type": "code",
   "execution_count": 3,
   "metadata": {},
   "outputs": [
    {
     "name": "stdout",
     "output_type": "stream",
     "text": [
      "'LNG' product, 1 input(s), processing emissions = 0\n",
      "GHG intensity (CO2e): 3.4\n"
     ]
    }
   ],
   "source": [
    "lng = Product(name = \"LNG\", processing = 0)\n",
    "\n",
    "lng.add_feedstock(nat_gas, unit_ratio = 1/.9)\n",
    "\n",
    "print(lng)\n",
    "print(\"GHG intensity (CO2e):\", round(lng.ggi_co2e(), 2))\n"
   ]
  },
  {
   "cell_type": "markdown",
   "metadata": {},
   "source": [
    "# Natural Gas with Leakage"
   ]
  },
  {
   "cell_type": "markdown",
   "metadata": {},
   "source": [
    "Here, my result differs with the Excel spreadsheet. \n",
    "The formula for effective CO2 emissions of CH4 \n",
    "leakage in the Excel spreadsheet depends on the \n",
    "molecular ratio between C and CO2. I think that is \n",
    "incorrect. Global warming attributable to CH4 \n",
    "leakage does not involve the carbon fraction of the \n",
    "gas or the properties of its combustion, just its \n",
    "global warming potential."
   ]
  },
  {
   "cell_type": "code",
   "execution_count": null,
   "metadata": {},
   "outputs": [
    {
     "name": "stdout",
     "output_type": "stream",
     "text": [
      "'Natural Gas' fuel, carbon fraction = 0.763, processing emissions = 0.258, leakage = True\n",
      "GHG intensity (CO2e): 3.36\n"
     ]
    }
   ],
   "source": [
    "leaky_nat_gas = deepcopy(nat_gas)\n",
    "\n",
    "leaky_nat_gas.set_leakage(leak_rate = 0.01, gwp = 30)\n",
    "\n",
    "print(leaky_nat_gas)\n",
    "print(\"GHG intensity (CO2e):\", round(leaky_nat_gas.ggi_co2e(), 2))\n"
   ]
  },
  {
   "cell_type": "markdown",
   "metadata": {},
   "source": [
    "# Test with multiple feedstocks and processing"
   ]
  },
  {
   "cell_type": "code",
   "execution_count": 5,
   "metadata": {},
   "outputs": [
    {
     "ename": "NameError",
     "evalue": "name 'Composite' is not defined",
     "output_type": "error",
     "traceback": [
      "\u001b[1;31m---------------------------------------------------------------------------\u001b[0m",
      "\u001b[1;31mNameError\u001b[0m                                 Traceback (most recent call last)",
      "Cell \u001b[1;32mIn[5], line 1\u001b[0m\n\u001b[1;32m----> 1\u001b[0m test \u001b[38;5;241m=\u001b[39m \u001b[43mComposite\u001b[49m(name \u001b[38;5;241m=\u001b[39m \u001b[38;5;124m\"\u001b[39m\u001b[38;5;124mmix\u001b[39m\u001b[38;5;124m\"\u001b[39m, processing \u001b[38;5;241m=\u001b[39m \u001b[38;5;241m44\u001b[39m\u001b[38;5;241m/\u001b[39m\u001b[38;5;241m12\u001b[39m)\n\u001b[0;32m      3\u001b[0m test\u001b[38;5;241m.\u001b[39madd_feedstock(Basic(\u001b[38;5;124m\"\u001b[39m\u001b[38;5;124msome of this\u001b[39m\u001b[38;5;124m\"\u001b[39m, \u001b[38;5;241m1\u001b[39m, \u001b[38;5;241m0\u001b[39m), \u001b[38;5;241m.5\u001b[39m)\n\u001b[0;32m      4\u001b[0m test\u001b[38;5;241m.\u001b[39madd_feedstock(Basic(\u001b[38;5;124m\"\u001b[39m\u001b[38;5;124msome of that\u001b[39m\u001b[38;5;124m\"\u001b[39m, \u001b[38;5;241m2\u001b[39m, \u001b[38;5;241m0\u001b[39m), \u001b[38;5;241m1.5\u001b[39m)\n",
      "\u001b[1;31mNameError\u001b[0m: name 'Composite' is not defined"
     ]
    }
   ],
   "source": [
    "test = Composite(name = \"mix\", processing = 44/12)\n",
    "\n",
    "test.add_feedstock(Basic(\"some of this\", 1, 0), .5)\n",
    "test.add_feedstock(Basic(\"some of that\", 2, 0), 1.5)\n",
    "\n",
    "print(test.feedstocks, \"processing:\", test.processing, \"GGI:\", test.ggi_co2e()*12/44)"
   ]
  }
 ],
 "metadata": {
  "kernelspec": {
   "display_name": ".venv",
   "language": "python",
   "name": "python3"
  },
  "language_info": {
   "codemirror_mode": {
    "name": "ipython",
    "version": 3
   },
   "file_extension": ".py",
   "mimetype": "text/x-python",
   "name": "python",
   "nbconvert_exporter": "python",
   "pygments_lexer": "ipython3",
   "version": "3.13.2"
  }
 },
 "nbformat": 4,
 "nbformat_minor": 2
}
