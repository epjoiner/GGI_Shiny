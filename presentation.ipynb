{
 "cells": [
  {
   "cell_type": "code",
   "execution_count": 1,
   "metadata": {},
   "outputs": [],
   "source": [
    "from product_types import *\n",
    "from precal_classes import *\n",
    "from copy import deepcopy"
   ]
  },
  {
   "cell_type": "markdown",
   "metadata": {},
   "source": [
    "# Natural Gas"
   ]
  },
  {
   "cell_type": "code",
   "execution_count": 2,
   "metadata": {},
   "outputs": [
    {
     "name": "stdout",
     "output_type": "stream",
     "text": [
      "'Natural Gas' fuel, carbon fraction = 0.763, processing emissions = 0.258, leakage = False\n",
      "GHG intensity (CO2e): 3.06\n"
     ]
    }
   ],
   "source": [
    "nat_gas = Fuel(name = \"Natural Gas\", carbon_frac = 0.763, processing = 0.258)\n",
    "\n",
    "print(nat_gas)\n",
    "print(\"GHG intensity (CO2e):\", round(nat_gas.ggi_co2e(), 2))\n"
   ]
  },
  {
   "cell_type": "markdown",
   "metadata": {},
   "source": [
    "# LNG"
   ]
  },
  {
   "cell_type": "code",
   "execution_count": 3,
   "metadata": {},
   "outputs": [
    {
     "name": "stdout",
     "output_type": "stream",
     "text": [
      "'LNG' product, 1 input(s), processing emissions = 0\n",
      "GHG intensity (CO2e): 3.4\n"
     ]
    }
   ],
   "source": [
    "lng = Product(name = \"LNG\", processing = 0)\n",
    "\n",
    "lng.add_feedstock(nat_gas, unit_ratio = 1/.9)\n",
    "\n",
    "print(lng)\n",
    "print(\"GHG intensity (CO2e):\", round(lng.ggi_co2e(), 2))\n"
   ]
  },
  {
   "cell_type": "markdown",
   "metadata": {},
   "source": [
    "# Natural Gas with Leakage"
   ]
  },
  {
   "cell_type": "markdown",
   "metadata": {},
   "source": [
    "Here, my result differs with the Excel spreadsheet. \n",
    "The formula for effective CO2 emissions of CH4 \n",
    "leakage in the Excel spreadsheet depends on the \n",
    "molecular ratio between C and CO2. I think that is \n",
    "incorrect. Global warming attributable to CH4 \n",
    "leakage does not involve the carbon fraction of the \n",
    "gas or the properties of its combustion, just its \n",
    "global warming potential."
   ]
  },
  {
   "cell_type": "code",
   "execution_count": 4,
   "metadata": {},
   "outputs": [
    {
     "name": "stdout",
     "output_type": "stream",
     "text": [
      "'Natural Gas' fuel, carbon fraction = 0.763, processing emissions = 0.258, leakage = True\n",
      "GHG intensity (CO2e): 3.36\n"
     ]
    }
   ],
   "source": [
    "leaky_nat_gas = deepcopy(nat_gas)\n",
    "\n",
    "leaky_nat_gas.set_leakage(leak_rate = 0.01, gwp = 30)\n",
    "\n",
    "print(leaky_nat_gas)\n",
    "print(\"GHG intensity (CO2e):\", round(leaky_nat_gas.ggi_co2e(), 2))\n"
   ]
  },
  {
   "cell_type": "markdown",
   "metadata": {},
   "source": [
    "# Test precalibrated class"
   ]
  },
  {
   "cell_type": "code",
   "execution_count": 5,
   "metadata": {},
   "outputs": [
    {
     "data": {
      "text/plain": [
       "3.428666666666666"
      ]
     },
     "execution_count": 5,
     "metadata": {},
     "output_type": "execute_result"
    }
   ],
   "source": [
    "oil_sands = OilSands()\n",
    "\n",
    "oil_sands.ggi_co2e()"
   ]
  }
 ],
 "metadata": {
  "kernelspec": {
   "display_name": ".venv",
   "language": "python",
   "name": "python3"
  },
  "language_info": {
   "codemirror_mode": {
    "name": "ipython",
    "version": 3
   },
   "file_extension": ".py",
   "mimetype": "text/x-python",
   "name": "python",
   "nbconvert_exporter": "python",
   "pygments_lexer": "ipython3",
   "version": "3.13.2"
  }
 },
 "nbformat": 4,
 "nbformat_minor": 2
}
